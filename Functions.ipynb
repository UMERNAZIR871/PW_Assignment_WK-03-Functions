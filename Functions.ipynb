{
 "cells": [
  {
   "cell_type": "markdown",
   "id": "39fcadce-73f2-4824-b744-406a3d4964c3",
   "metadata": {},
   "source": [
    "# Functons Assignment"
   ]
  },
  {
   "cell_type": "markdown",
   "id": "ff12e308-5477-46c1-98e7-faeff54da213",
   "metadata": {},
   "source": [
    "**Q 1. What is the difference between a function and a method in Python?**"
   ]
  },
  {
   "cell_type": "markdown",
   "id": "f80ff42d-c77c-41fb-aaf2-c04dbdafee9e",
   "metadata": {},
   "source": [
    "**Ans.** Difference Between a Function and a Method in Python \n",
    "| Feature             | Function                                                                                                                         | Method                                                                                     |\n",
    "| ------------------- | -------------------------------------------------------------------------------------------------------------------------------- | ------------------------------------------------------------------------------------------ |\n",
    "| **Definition**      | A function is a block of reusable code that performs a specific task. It can be defined using `def` and can exist independently. | A method is a function that is associated with an object and is called using dot notation. |\n",
    "| **Associated with** | Not tied to any object or class unless explicitly defined in one.                                                                | Tied to an object (usually an instance of a class).                                        |\n",
    "| **How to Call**     | Called directly by name (if defined globally).                                                                                   | Called using an object: `object.method()`.                                                 |\n",
    "| **Belongs to**      | Can exist outside of a class.                                                                                                    | Always defined inside a class.                                                             |\n"
   ]
  },
  {
   "cell_type": "markdown",
   "id": "6aa8526e-1203-45de-84ae-d2cda3240be3",
   "metadata": {},
   "source": [
    "Example of a Function:"
   ]
  },
  {
   "cell_type": "code",
   "execution_count": 1,
   "id": "0b10f834-7e7c-4785-8c25-7fbc0d72a414",
   "metadata": {},
   "outputs": [
    {
     "name": "stdout",
     "output_type": "stream",
     "text": [
      "Hello, Alice!\n"
     ]
    }
   ],
   "source": [
    "def greet(name):\n",
    "    return f\"Hello, {name}!\"\n",
    "\n",
    "print(greet(\"Alice\"))  # Output: Hello, Alice!\n"
   ]
  },
  {
   "cell_type": "markdown",
   "id": "d216a007-3be3-4790-ba77-17cd92b88e8e",
   "metadata": {},
   "source": [
    "Example of a Method:"
   ]
  },
  {
   "cell_type": "code",
   "execution_count": 2,
   "id": "144bbec7-615b-401e-a6d0-84fee9ab7006",
   "metadata": {},
   "outputs": [
    {
     "name": "stdout",
     "output_type": "stream",
     "text": [
      "Hello, Bob!\n"
     ]
    }
   ],
   "source": [
    "class Person:\n",
    "    def greet(self, name):\n",
    "        return f\"Hello, {name}!\"\n",
    "\n",
    "p = Person()\n",
    "print(p.greet(\"Bob\"))  # Output: Hello, Bob!\n"
   ]
  },
  {
   "cell_type": "markdown",
   "id": "b62787e5-031b-485e-bc2f-3ad753ad7700",
   "metadata": {},
   "source": [
    "In this example, greet inside the class is a method, while the standalone greet is a function."
   ]
  },
  {
   "cell_type": "markdown",
   "id": "875da8ac-ec70-42ef-adb4-c677a6f46a89",
   "metadata": {},
   "source": [
    "**Q 2. Explain the concept of function arguments and parameters in Python.**"
   ]
  },
  {
   "cell_type": "markdown",
   "id": "5f5ae060-0d24-4491-be17-97172eef2a8e",
   "metadata": {},
   "source": [
    "**Ans.**\n",
    "- Function Parameters are the variable names listed in a function definition.\n",
    "- Function Arguments are the actual values passed to the function when it is called."
   ]
  },
  {
   "cell_type": "code",
   "execution_count": 3,
   "id": "16eef8f7-d227-4b53-a75c-35b50b807354",
   "metadata": {},
   "outputs": [
    {
     "name": "stdout",
     "output_type": "stream",
     "text": [
      "Hello, Alice!\n"
     ]
    }
   ],
   "source": [
    "# 'name' is a parameter\n",
    "def greet(name):\n",
    "    print(f\"Hello, {name}!\")\n",
    "\n",
    "# 'Alice' is an argument\n",
    "greet(\"Alice\")\n"
   ]
  },
  {
   "cell_type": "markdown",
   "id": "e006b962-eae5-4a99-940b-dca909bce54f",
   "metadata": {},
   "source": [
    "Types of Function Arguments in Python:\n",
    "- Positional Arguments – Based on position.\n",
    "- Keyword Arguments – Passed using the parameter name.\n",
    "- Default Arguments – Have default values if no argument is passed.\n",
    "- Variable-length Arguments – Accept multiple values using *args or **kwargs."
   ]
  },
  {
   "cell_type": "code",
   "execution_count": 6,
   "id": "b32f8a2e-c233-48d7-a26f-9c24ef7d200b",
   "metadata": {
    "scrolled": true
   },
   "outputs": [
    {
     "name": "stdout",
     "output_type": "stream",
     "text": [
      "8\n"
     ]
    }
   ],
   "source": [
    "# 1. Positional Arguments:\n",
    "def add(a, b):\n",
    "    return a + b\n",
    "\n",
    "print(add(3, 5))  # Output: 8\n"
   ]
  },
  {
   "cell_type": "code",
   "execution_count": 7,
   "id": "8266dbb4-2ac9-418a-bb9d-84c7acb6de93",
   "metadata": {},
   "outputs": [
    {
     "name": "stdout",
     "output_type": "stream",
     "text": [
      "8\n"
     ]
    }
   ],
   "source": [
    "# 2. Keyword Arguments:\n",
    "\n",
    "print(add(b=5, a=3))  # Output: 8\n"
   ]
  },
  {
   "cell_type": "code",
   "execution_count": 8,
   "id": "391861fc-c1bb-4c45-8a73-08f3b0462434",
   "metadata": {},
   "outputs": [
    {
     "name": "stdout",
     "output_type": "stream",
     "text": [
      "Hello, Guest!\n",
      "Hello, Sara!\n"
     ]
    }
   ],
   "source": [
    "# 3. Default Arguments:\n",
    "\n",
    "def greet(name=\"Guest\"):\n",
    "    print(f\"Hello, {name}!\")\n",
    "\n",
    "greet()        # Output: Hello, Guest!\n",
    "greet(\"Sara\")  # Output: Hello, Sara!\n"
   ]
  },
  {
   "cell_type": "code",
   "execution_count": 9,
   "id": "0366d522-35ef-4745-ae04-80cfff1a115a",
   "metadata": {},
   "outputs": [
    {
     "name": "stdout",
     "output_type": "stream",
     "text": [
      "10\n"
     ]
    }
   ],
   "source": [
    "# 4. Variable-length Arguments:\n",
    "\n",
    "def total(*numbers):\n",
    "    return sum(numbers)\n",
    "\n",
    "print(total(1, 2, 3, 4))  # Output: 10\n"
   ]
  },
  {
   "cell_type": "markdown",
   "id": "e355fb6c-a1ff-4b22-8454-64334084a897",
   "metadata": {},
   "source": [
    "**Q 3. What are the different ways to define and call a function in Python?**"
   ]
  },
  {
   "cell_type": "markdown",
   "id": "2c5d2ab6-2085-4af0-b497-a6281cb87de0",
   "metadata": {},
   "source": [
    "**Ans,** In Python, functions can be defined and called in several ways depending on the use case.\n",
    "\n",
    "1. Standard Function Definition\n",
    "\n",
    "✅ Define:"
   ]
  },
  {
   "cell_type": "code",
   "execution_count": 10,
   "id": "4713c1b1-3715-4e38-bcd9-1bb828e9b5b0",
   "metadata": {},
   "outputs": [],
   "source": [
    "def greet(name):\n",
    "    print(f\"Hello, {name}!\")\n"
   ]
  },
  {
   "cell_type": "markdown",
   "id": "2b9bbf71-7cb1-4aa8-935e-a0f9f755a905",
   "metadata": {},
   "source": [
    "✅ Call:"
   ]
  },
  {
   "cell_type": "code",
   "execution_count": 11,
   "id": "9d1c7a8f-b690-4ca9-8213-e3792aaabd49",
   "metadata": {},
   "outputs": [
    {
     "name": "stdout",
     "output_type": "stream",
     "text": [
      "Hello, Alice!\n"
     ]
    }
   ],
   "source": [
    "greet(\"Alice\")\n"
   ]
  },
  {
   "cell_type": "markdown",
   "id": "9e6b910c-63df-4292-82d5-4f6fb43c686a",
   "metadata": {},
   "source": [
    "2. Function with Default Arguments\n",
    "\n",
    "✅ Define:"
   ]
  },
  {
   "cell_type": "code",
   "execution_count": 13,
   "id": "dba86644-9262-4d86-a7c5-ced75a52177f",
   "metadata": {},
   "outputs": [],
   "source": [
    "def greet(name=\"Guest\"):\n",
    "    print(f\"Hello, {name}!\")\n"
   ]
  },
  {
   "cell_type": "markdown",
   "id": "16ebd9f2-2731-4277-acba-7fe31ecc367e",
   "metadata": {},
   "source": [
    "✅ Call:"
   ]
  },
  {
   "cell_type": "code",
   "execution_count": 14,
   "id": "2220b74e-2cff-46d4-bd4f-30b6dd46bc08",
   "metadata": {},
   "outputs": [
    {
     "name": "stdout",
     "output_type": "stream",
     "text": [
      "Hello, Guest!\n",
      "Hello, Alice!\n"
     ]
    }
   ],
   "source": [
    "greet()          # Uses default: Guest\n",
    "greet(\"Alice\")   # Uses passed argument: Alice\n"
   ]
  },
  {
   "cell_type": "markdown",
   "id": "77a892db-0592-49d3-98db-e25839608054",
   "metadata": {},
   "source": [
    "3. Function with Keyword Arguments"
   ]
  },
  {
   "cell_type": "markdown",
   "id": "124e9737-254c-4bd0-91c9-961ca745dedb",
   "metadata": {},
   "source": [
    "✅ Define:"
   ]
  },
  {
   "cell_type": "code",
   "execution_count": 15,
   "id": "1fb601f2-acec-48ee-bf4d-4031effce9bb",
   "metadata": {},
   "outputs": [],
   "source": [
    "def describe(name, age):\n",
    "    print(f\"{name} is {age} years old.\")\n"
   ]
  },
  {
   "cell_type": "code",
   "execution_count": null,
   "id": "2b8e861e-4d5b-4041-af15-c5d5c014ed7d",
   "metadata": {},
   "outputs": [],
   "source": [
    "✅ Call:"
   ]
  },
  {
   "cell_type": "code",
   "execution_count": 16,
   "id": "06fd56d9-f12c-4d43-83f2-8cd991e1a0d8",
   "metadata": {},
   "outputs": [
    {
     "name": "stdout",
     "output_type": "stream",
     "text": [
      "John is 30 years old.\n"
     ]
    }
   ],
   "source": [
    "describe(age=30, name=\"John\")  # Order doesn't matter with keywords\n"
   ]
  },
  {
   "cell_type": "markdown",
   "id": "ad6cbe76-6468-4484-9bf9-7623cb22ced2",
   "metadata": {},
   "source": [
    " 4. Function with Variable-Length Arguments"
   ]
  },
  {
   "cell_type": "markdown",
   "id": "d103d8bf-d673-4c8f-8867-94ec08176264",
   "metadata": {},
   "source": [
    "✅ Define:"
   ]
  },
  {
   "cell_type": "code",
   "execution_count": 17,
   "id": "e873133e-4782-4f1f-a298-96eb716f4813",
   "metadata": {},
   "outputs": [],
   "source": [
    "def add_all(*numbers):\n",
    "    return sum(numbers)\n"
   ]
  },
  {
   "cell_type": "markdown",
   "id": "02cf43ec-a463-493c-8350-f602808a9113",
   "metadata": {},
   "source": [
    "✅ Call:"
   ]
  },
  {
   "cell_type": "code",
   "execution_count": 18,
   "id": "c64599a5-465a-4617-a91f-be2b4c2d136e",
   "metadata": {},
   "outputs": [
    {
     "name": "stdout",
     "output_type": "stream",
     "text": [
      "10\n"
     ]
    }
   ],
   "source": [
    "print(add_all(1, 2, 3, 4))  # Output: 10\n"
   ]
  },
  {
   "cell_type": "markdown",
   "id": "e98ca1f1-4c13-4da9-955b-aca4d685dd50",
   "metadata": {},
   "source": [
    "We can also use **kwargs for variable-length keyword arguments:"
   ]
  },
  {
   "cell_type": "code",
   "execution_count": 19,
   "id": "2d62692e-4c43-4d28-84ce-92c9602552d0",
   "metadata": {},
   "outputs": [],
   "source": [
    "def show_info(**info):\n",
    "    for key, value in info.items():\n",
    "        print(f\"{key}: {value}\")\n"
   ]
  },
  {
   "cell_type": "markdown",
   "id": "df1d8f3a-939f-44f7-9857-13c178c300e9",
   "metadata": {},
   "source": [
    "✅ Call:"
   ]
  },
  {
   "cell_type": "code",
   "execution_count": 20,
   "id": "bb9c805a-8b3c-4e6c-b569-0181d745857a",
   "metadata": {},
   "outputs": [
    {
     "name": "stdout",
     "output_type": "stream",
     "text": [
      "name: Ali\n",
      "age: 22\n"
     ]
    }
   ],
   "source": [
    "show_info(name=\"Ali\", age=22)\n"
   ]
  },
  {
   "cell_type": "markdown",
   "id": "87bc712d-0f65-4ce2-99f2-bbfc128faca4",
   "metadata": {},
   "source": [
    "5. Lambda (Anonymous) Function"
   ]
  },
  {
   "cell_type": "markdown",
   "id": "fe7e9a37-1140-4429-b7a0-c156e1e94e36",
   "metadata": {},
   "source": [
    "✅ Define:"
   ]
  },
  {
   "cell_type": "code",
   "execution_count": 21,
   "id": "03b5a0f9-8610-465f-ac18-b5b48ea2ac0c",
   "metadata": {},
   "outputs": [],
   "source": [
    "square = lambda x: x ** 2\n"
   ]
  },
  {
   "cell_type": "markdown",
   "id": "26cf2d50-4adc-45a1-901c-87d4c95b0a7f",
   "metadata": {},
   "source": [
    "✅ Call:"
   ]
  },
  {
   "cell_type": "code",
   "execution_count": 22,
   "id": "db969887-be4c-4627-abf5-1ce50bf9aa05",
   "metadata": {},
   "outputs": [
    {
     "name": "stdout",
     "output_type": "stream",
     "text": [
      "25\n"
     ]
    }
   ],
   "source": [
    "print(square(5))  # Output: 25\n"
   ]
  },
  {
   "cell_type": "markdown",
   "id": "cc7f7098-ddfa-4fcb-be68-73e7e071b1b1",
   "metadata": {},
   "source": [
    "6. Function Inside Another Function (Nested Function)"
   ]
  },
  {
   "cell_type": "markdown",
   "id": "ec5b0562-2f3c-4a25-b877-e9cb9c7d5d66",
   "metadata": {},
   "source": [
    "✅ Define:"
   ]
  },
  {
   "cell_type": "code",
   "execution_count": 23,
   "id": "681ef626-2a2d-4309-9bb3-95606d10781c",
   "metadata": {},
   "outputs": [],
   "source": [
    "def outer():\n",
    "    def inner():\n",
    "        print(\"Inner function called.\")\n",
    "    inner()\n"
   ]
  },
  {
   "cell_type": "markdown",
   "id": "c349e940-8524-4056-a93b-ca8cd59e1d63",
   "metadata": {},
   "source": [
    "✅ Call:"
   ]
  },
  {
   "cell_type": "code",
   "execution_count": 24,
   "id": "d9b1ac4b-b039-43a5-a6ee-19596f610586",
   "metadata": {},
   "outputs": [
    {
     "name": "stdout",
     "output_type": "stream",
     "text": [
      "Inner function called.\n"
     ]
    }
   ],
   "source": [
    "outer()\n"
   ]
  },
  {
   "cell_type": "markdown",
   "id": "83eb659c-dd16-4ad6-9a15-43d48c2a0df2",
   "metadata": {},
   "source": [
    "7. Function Using return"
   ]
  },
  {
   "cell_type": "markdown",
   "id": "a1a48476-8fc7-44b1-8093-413c9168be9c",
   "metadata": {},
   "source": [
    "✅ Define:"
   ]
  },
  {
   "cell_type": "code",
   "execution_count": 25,
   "id": "67c6801c-543c-433e-acab-6d48564d3354",
   "metadata": {},
   "outputs": [],
   "source": [
    "def multiply(a, b):\n",
    "    return a * b\n"
   ]
  },
  {
   "cell_type": "markdown",
   "id": "ff6de657-86ca-4794-9073-165d32700d91",
   "metadata": {},
   "source": [
    "✅ Call:"
   ]
  },
  {
   "cell_type": "code",
   "execution_count": 26,
   "id": "49b6b2ba-7896-4067-adfd-5ebcfab7688d",
   "metadata": {},
   "outputs": [
    {
     "name": "stdout",
     "output_type": "stream",
     "text": [
      "12\n"
     ]
    }
   ],
   "source": [
    "result = multiply(3, 4)\n",
    "print(result)  # Output: 12\n"
   ]
  },
  {
   "cell_type": "markdown",
   "id": "eb41836e-fb15-4148-b006-f1cae4d28000",
   "metadata": {},
   "source": [
    "**Q 4. What is the purpose of the `return` statement in a Python function?**"
   ]
  },
  {
   "cell_type": "markdown",
   "id": "9c7d5209-19b3-4967-93b6-6ae60ffb4c30",
   "metadata": {},
   "source": [
    "**Ans.** The return statement in a Python function is used to send a value back to the caller of the function. It ends the function's execution and provides the result that can be used elsewhere in the program.\n",
    "\n",
    "- Key Purposes:\n",
    "    - It outputs the result from a function.\n",
    "    - It terminates the function’s execution.\n",
    "    - It allows passing data from inside the function to outside.\n",
    "\n",
    "Example:-"
   ]
  },
  {
   "cell_type": "code",
   "execution_count": 1,
   "id": "27ae219b-daab-445e-b5bf-12e3c2de2f64",
   "metadata": {},
   "outputs": [
    {
     "name": "stdout",
     "output_type": "stream",
     "text": [
      "8\n"
     ]
    }
   ],
   "source": [
    "def add(a, b):\n",
    "    result = a + b\n",
    "    return result\n",
    "\n",
    "# Calling the function and storing the return value\n",
    "sum = add(5, 3)\n",
    "print(sum)  # Output: 8\n"
   ]
  },
  {
   "cell_type": "markdown",
   "id": "e4adc82f-2973-4902-96e2-9a3d972e0332",
   "metadata": {},
   "source": [
    "In Above Example:-\n",
    "- The return result sends the value of a + b back to the caller.\n",
    "- Without the return statement, the function would do the calculation but not provide the result to the rest of the program."
   ]
  },
  {
   "cell_type": "markdown",
   "id": "08a1de6c-ac26-4a82-b511-6d44d039fc7d",
   "metadata": {},
   "source": [
    "**Q 5. What are iterators in Python and how do they differ from iterables?**"
   ]
  },
  {
   "cell_type": "markdown",
   "id": "dc96c926-b23b-4b70-9b56-930c9ea9215d",
   "metadata": {},
   "source": [
    "**Ans.** \n",
    "\n",
    "- Iterables:\n",
    "    - In iterable is any Python object capable of returning its members one at a time. Examples include lists, tuples, strings, and dictionaries.\n",
    "    - It implements the __iter__() method.\n",
    "    - We can loop over it using a for loop.\n",
    "\n",
    "- Iterators:\n",
    "    - An iterator is an object that keeps state and produces the next value when you call the next() function.\n",
    "    - It implements both __iter__() and __next__() methods.\n",
    "    - We can get an iterator from an iterable using the iter() function.\n",
    "\n",
    "Difference:"
   ]
  },
  {
   "cell_type": "markdown",
   "id": "7a9fc049-7ee2-4a28-9871-43489ac83225",
   "metadata": {},
   "source": [
    "| Feature            | Iterable               | Iterator                          |\n",
    "| ------------------ | ---------------------- | --------------------------------- |\n",
    "| Can be looped      | Yes                    | Yes                               |\n",
    "| Methods            | Has `__iter__()`       | Has `__iter__()` and `__next__()` |\n",
    "| Used with `next()` | No                     | Yes                               |\n",
    "| Example            | `list`, `str`, `tuple` | `iter(list)`, generator objects   |\n"
   ]
  },
  {
   "cell_type": "code",
   "execution_count": 2,
   "id": "da079f63-169d-40da-9c5f-173eabd1e3b8",
   "metadata": {},
   "outputs": [
    {
     "name": "stdout",
     "output_type": "stream",
     "text": [
      "1\n",
      "2\n",
      "3\n"
     ]
    }
   ],
   "source": [
    "# Iterable\n",
    "my_list = [1, 2, 3]\n",
    "\n",
    "# Convert iterable to iterator\n",
    "my_iterator = iter(my_list)\n",
    "\n",
    "# Using next() to get elements one by one\n",
    "print(next(my_iterator))  # Output: 1\n",
    "print(next(my_iterator))  # Output: 2\n",
    "print(next(my_iterator))  # Output: 3\n"
   ]
  },
  {
   "cell_type": "markdown",
   "id": "e0ea2b49-6ab7-43b0-a846-9b70a36fbb34",
   "metadata": {},
   "source": [
    "**Q 6. Explain the concept of generators in Python and how they are defined.**"
   ]
  },
  {
   "cell_type": "markdown",
   "id": "66aefef2-d291-4dc9-bcc5-1912676bdc5f",
   "metadata": {},
   "source": [
    "**Ans** In Python, generators are a way to create iterators in a simple and memory-efficient manner. Instead of returning all the values at once like a list, a generator produces values one at a time and only when requested (lazy evaluation). This is especially useful when dealing with large data sets or streams of data.\n",
    "\n",
    "- Generator Working mechanics:\n",
    "- A generator is a function that contains one or more `yield` statements. When called, it doesn't execute the function body right away but returns a generator object. This object can be iterated over, and each time `yield` is encountered, the function's state is saved, and the value is returned. Execution resumes from that point on the next iteration."
   ]
  },
  {
   "cell_type": "markdown",
   "id": "312152f8-91f2-469c-89eb-e67f343831e3",
   "metadata": {},
   "source": [
    "> Defining a Generator: Here’s how to define and use a generator:"
   ]
  },
  {
   "cell_type": "code",
   "execution_count": 1,
   "id": "a37b05ef-b9e0-49e0-9f9e-b849414ddc93",
   "metadata": {},
   "outputs": [],
   "source": [
    "def count_up_to(max):\n",
    "    count = 1\n",
    "    while count <= max:\n",
    "        yield count\n",
    "        count += 1\n"
   ]
  },
  {
   "cell_type": "markdown",
   "id": "cf827eb9-8646-436e-be57-156b6e4ce902",
   "metadata": {},
   "source": [
    "> Using the generator:"
   ]
  },
  {
   "cell_type": "code",
   "execution_count": 2,
   "id": "812a757d-7b8a-40b9-b914-642b6a5c96f7",
   "metadata": {},
   "outputs": [
    {
     "name": "stdout",
     "output_type": "stream",
     "text": [
      "1\n",
      "2\n",
      "3\n"
     ]
    }
   ],
   "source": [
    "counter = count_up_to(3)\n",
    "for num in counter:\n",
    "    print(num)\n"
   ]
  },
  {
   "cell_type": "markdown",
   "id": "94ed554d-0ac4-49f4-83d8-aa2ceff503ce",
   "metadata": {},
   "source": [
    "- Generator Expressions:   Similar to list comprehensions, Python also supports generator expressions:"
   ]
  },
  {
   "cell_type": "code",
   "execution_count": 3,
   "id": "15da207f-818c-41cb-a96f-d1723a5f86da",
   "metadata": {},
   "outputs": [
    {
     "name": "stdout",
     "output_type": "stream",
     "text": [
      "0\n",
      "1\n",
      "4\n",
      "9\n",
      "16\n"
     ]
    }
   ],
   "source": [
    "squares = (x * x for x in range(5))\n",
    "for s in squares:\n",
    "    print(s)\n"
   ]
  },
  {
   "cell_type": "markdown",
   "id": "0aca7eff-f9c0-4317-83b2-37e66603c8e2",
   "metadata": {},
   "source": [
    "- Benefits of Generators: \n",
    "    - Memory Efficient – don’t store the entire result in memory.\n",
    "    - Lazy Evaluation – compute values on demand.\n",
    "    - Infinite Sequences – useful for streams or sequences with no defined end.\n"
   ]
  },
  {
   "cell_type": "markdown",
   "id": "bfde93ce-ad47-46e4-a8ac-b3058b012bde",
   "metadata": {},
   "source": [
    "**Q 7. What are the advantages of using generators over regular functions?**"
   ]
  },
  {
   "cell_type": "markdown",
   "id": "cd2d0c5f-33b1-430b-ad05-b8f2e7b1a7c5",
   "metadata": {},
   "source": [
    "**Ans.** Generators in Python offer several advantages over regular functions, especially when dealing with large data sets or streams. Here are the key benefits:\n",
    "\n",
    "1. Memory Efficiency: Generators don’t store all values in memory — they generate each value on the fly (lazy evaluation). This is ideal for:\n",
    "   1. Large datasets\n",
    "   2. Infinite sequences\n",
    "   3. Streaming data (e.g., reading large files)"
   ]
  },
  {
   "cell_type": "code",
   "execution_count": 5,
   "id": "42d36c8f-6951-4ea8-8a44-97554143f802",
   "metadata": {},
   "outputs": [],
   "source": [
    "# List version (loads all numbers in memory)\n",
    "nums = [x for x in range(1000000)]\n",
    "\n",
    "# Generator version (uses much less memory)\n",
    "nums = (x for x in range(1000000))\n"
   ]
  },
  {
   "cell_type": "markdown",
   "id": "8f053406-cb7b-404f-aca5-2ee2892d9f58",
   "metadata": {},
   "source": [
    "2. Lazy Evaluation (On-Demand Computation): Generators compute and return values only when needed, which:\n",
    "    1. Improves performance\n",
    "    2. Reduces waiting time when only a few values are needed"
   ]
  },
  {
   "cell_type": "code",
   "execution_count": 6,
   "id": "8a495427-5eb2-499e-83b4-8e86f07662d8",
   "metadata": {},
   "outputs": [
    {
     "name": "stdout",
     "output_type": "stream",
     "text": [
      "0\n",
      "1\n"
     ]
    }
   ],
   "source": [
    "def infinite_numbers():\n",
    "    num = 0\n",
    "    while True:\n",
    "        yield num\n",
    "        num += 1\n",
    "\n",
    "gen = infinite_numbers()\n",
    "print(next(gen))  # 0\n",
    "print(next(gen))  # 1\n"
   ]
  },
  {
   "cell_type": "markdown",
   "id": "1ebebcb1-0c3a-447b-b8eb-66e7f7b6f44e",
   "metadata": {},
   "source": [
    "3. Cleaner and More Readable Code: Generators allow you to avoid manual bookkeeping (like managing indexes or temporary storage), especially in loops."
   ]
  },
  {
   "cell_type": "code",
   "execution_count": 7,
   "id": "b07295c6-1b1d-4a4e-a5df-fabe5319adf4",
   "metadata": {},
   "outputs": [],
   "source": [
    "# Regular function\n",
    "def first_n(n):\n",
    "    result = []\n",
    "    num = 0\n",
    "    while num < n:\n",
    "        result.append(num)\n",
    "        num += 1\n",
    "    return result\n",
    "\n",
    "# Generator version\n",
    "def first_n(n):\n",
    "    num = 0\n",
    "    while num < n:\n",
    "        yield num\n",
    "        num += 1\n"
   ]
  },
  {
   "cell_type": "markdown",
   "id": "8ccbd0aa-5c0b-4234-9fc9-1168ffbf90bb",
   "metadata": {},
   "source": [
    "4. Infinite Sequences and Pipelines: Generators can represent infinite sequences — something you can't do with lists. Also, you can chain multiple generators together to create efficient data pipelines."
   ]
  },
  {
   "cell_type": "code",
   "execution_count": 8,
   "id": "ad665c1e-108c-4c9f-a48b-b0b29ff234b2",
   "metadata": {},
   "outputs": [],
   "source": [
    "def even_numbers():\n",
    "    n = 0\n",
    "    while True:\n",
    "        yield n\n",
    "        n += 2\n"
   ]
  },
  {
   "cell_type": "markdown",
   "id": "1db01421-b01e-4bfc-ba04-52a4f5a97ace",
   "metadata": {},
   "source": [
    "5. Improved Performance in Loops: Generators avoid the overhead of storing intermediate results. This can make loops faster and more responsive when processing large or complex data."
   ]
  },
  {
   "cell_type": "markdown",
   "id": "bc16bd0e-8dd6-4ae1-9de9-950c081a2f78",
   "metadata": {},
   "source": [
    "**Q 8. What is a lambda function in Python and when is it typically used?**"
   ]
  },
  {
   "cell_type": "markdown",
   "id": "1b20966f-d5b7-42a6-98a9-bbf5be496b3a",
   "metadata": {},
   "source": [
    "**Ans.** A lambda function in Python is a small anonymous function defined using the lambda keyword. Unlike regular functions defined with def, a lambda function can have any number of arguments but only one expression."
   ]
  },
  {
   "cell_type": "markdown",
   "id": "80d83ceb-d785-4ff0-a9df-1bc1d3afc907",
   "metadata": {},
   "source": [
    "Syntax:\n",
    "> lambda arguments: expression"
   ]
  },
  {
   "cell_type": "code",
   "execution_count": 10,
   "id": "4bb2e629-3181-4a1e-9063-67426b722872",
   "metadata": {},
   "outputs": [
    {
     "name": "stdout",
     "output_type": "stream",
     "text": [
      "25\n"
     ]
    }
   ],
   "source": [
    "# Lam,bda Example \n",
    "\n",
    "square = lambda x: x * x\n",
    "print(square(5))  # Output: 25\n"
   ]
  },
  {
   "cell_type": "code",
   "execution_count": 11,
   "id": "92b3a403-1331-40ff-8014-fac37fe2dab3",
   "metadata": {},
   "outputs": [],
   "source": [
    "#   This is functionally equivalent to:\n",
    "def square(x):\n",
    "    return x * x\n"
   ]
  },
  {
   "cell_type": "markdown",
   "id": "e4049a0d-ad52-445e-8794-11c4026c847c",
   "metadata": {},
   "source": [
    "> Lambda functions are commonly used for short, throwaway functions, especially when passed as arguments to higher-order functions."
   ]
  },
  {
   "cell_type": "markdown",
   "id": "5dad4aba-001d-4bef-8b31-daa667d1e462",
   "metadata": {},
   "source": [
    "1. With map() : Apply a function to all elements in an iterable."
   ]
  },
  {
   "cell_type": "code",
   "execution_count": 12,
   "id": "212c17a9-6822-45e6-b0f5-5c7bb4b74a4c",
   "metadata": {},
   "outputs": [
    {
     "name": "stdout",
     "output_type": "stream",
     "text": [
      "[1, 4, 9, 16]\n"
     ]
    }
   ],
   "source": [
    "nums = [1, 2, 3, 4]\n",
    "squares = list(map(lambda x: x**2, nums))\n",
    "print(squares)  # Output: [1, 4, 9, 16]\n"
   ]
  },
  {
   "cell_type": "markdown",
   "id": "363ac9e6-ae27-4ad7-b121-d28283ef70d4",
   "metadata": {},
   "source": [
    "2. With filter() : Filter elements based on a condition."
   ]
  },
  {
   "cell_type": "code",
   "execution_count": 14,
   "id": "10983914-10ec-429b-9386-c7114e7d0720",
   "metadata": {},
   "outputs": [
    {
     "name": "stdout",
     "output_type": "stream",
     "text": [
      "[2, 4]\n"
     ]
    }
   ],
   "source": [
    "nums = [1, 2, 3, 4, 5]\n",
    "even = list(filter(lambda x: x % 2 == 0, nums))\n",
    "print(even)  # Output: [2, 4]\n"
   ]
  },
  {
   "cell_type": "markdown",
   "id": "b3835707-d156-46ae-bf53-ab72b7e5bb56",
   "metadata": {},
   "source": [
    "3. With sorted() : Custom sort using a key function."
   ]
  },
  {
   "cell_type": "code",
   "execution_count": 15,
   "id": "e545877d-4ed5-4764-a566-647529a12c59",
   "metadata": {},
   "outputs": [
    {
     "name": "stdout",
     "output_type": "stream",
     "text": [
      "['apple', 'banana', 'cherry']\n"
     ]
    }
   ],
   "source": [
    "words = ['banana', 'apple', 'cherry']\n",
    "sorted_words = sorted(words, key=lambda x: len(x))\n",
    "print(sorted_words)  # Output: ['apple', 'banana', 'cherry']\n"
   ]
  },
  {
   "cell_type": "markdown",
   "id": "7f1feff6-c952-43eb-b324-ad4d811879b0",
   "metadata": {},
   "source": [
    "4. In GUI or Event Handlers: When you want to attach simple logic without defining a separate function."
   ]
  },
  {
   "cell_type": "markdown",
   "id": "fd790511-d56c-4cbb-af3c-9be65b402af8",
   "metadata": {},
   "source": [
    "- Limitations of Lambda Functions :\n",
    "\n",
    "    - Only one expression allowed — no multiple lines or statements.\n",
    "    - Harder to read when overused.\n",
    "    - Not ideal for complex logic — use def instead.\n"
   ]
  },
  {
   "cell_type": "code",
   "execution_count": null,
   "id": "f53312a4-1e8c-46b4-ab32-b6822234c518",
   "metadata": {},
   "outputs": [],
   "source": []
  },
  {
   "cell_type": "code",
   "execution_count": null,
   "id": "d438ed1f-42e0-407c-9714-f84b90e52421",
   "metadata": {},
   "outputs": [],
   "source": []
  },
  {
   "cell_type": "markdown",
   "id": "b598dead-8619-4406-9503-0fb4c172ae17",
   "metadata": {},
   "source": [
    "**Q 9. Explain the purpose and usage of the `map()` function in Python.**"
   ]
  },
  {
   "cell_type": "code",
   "execution_count": null,
   "id": "7ede416b-3b38-4bcd-ab8c-c0b5160d61e3",
   "metadata": {},
   "outputs": [],
   "source": []
  },
  {
   "cell_type": "markdown",
   "id": "392ce826-bc9b-4cf3-bf73-b4feb96daef0",
   "metadata": {},
   "source": [
    "**Q 10. What is the difference between `map()`, `reduce()`, and `filter()` functions in Python?**"
   ]
  },
  {
   "cell_type": "code",
   "execution_count": null,
   "id": "73b91248-9e85-43e1-b258-65b3e4606376",
   "metadata": {},
   "outputs": [],
   "source": []
  },
  {
   "cell_type": "markdown",
   "id": "3eac853f-cae2-451e-bb1b-326780b41144",
   "metadata": {},
   "source": [
    "**Q 11. Using pen & Paper write the internal mechanism for sum operation using  reduce function on this given  list:[47,11,42,13];**"
   ]
  },
  {
   "cell_type": "code",
   "execution_count": null,
   "id": "0cf10325-83c2-4cad-b100-65524b97ebc7",
   "metadata": {},
   "outputs": [],
   "source": []
  },
  {
   "cell_type": "code",
   "execution_count": null,
   "id": "d6fe5ff2-781f-4093-857b-779d7936ee93",
   "metadata": {},
   "outputs": [],
   "source": []
  },
  {
   "cell_type": "code",
   "execution_count": null,
   "id": "31978519-abaf-467a-8d7a-3bd4b455c5ed",
   "metadata": {},
   "outputs": [],
   "source": []
  }
 ],
 "metadata": {
  "kernelspec": {
   "display_name": "Python 3 (ipykernel)",
   "language": "python",
   "name": "python3"
  },
  "language_info": {
   "codemirror_mode": {
    "name": "ipython",
    "version": 3
   },
   "file_extension": ".py",
   "mimetype": "text/x-python",
   "name": "python",
   "nbconvert_exporter": "python",
   "pygments_lexer": "ipython3",
   "version": "3.13.3"
  }
 },
 "nbformat": 4,
 "nbformat_minor": 5
}
