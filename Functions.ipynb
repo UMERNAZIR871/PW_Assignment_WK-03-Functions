{
 "cells": [
  {
   "cell_type": "markdown",
   "id": "39fcadce-73f2-4824-b744-406a3d4964c3",
   "metadata": {},
   "source": [
    "# Functons Assignment"
   ]
  },
  {
   "cell_type": "markdown",
   "id": "ff12e308-5477-46c1-98e7-faeff54da213",
   "metadata": {},
   "source": [
    "**Q 1. What is the difference between a function and a method in Python?**"
   ]
  },
  {
   "cell_type": "markdown",
   "id": "f80ff42d-c77c-41fb-aaf2-c04dbdafee9e",
   "metadata": {},
   "source": [
    "**Ans.** Difference Between a Function and a Method in Python \n",
    "| Feature             | Function                                                                                                                         | Method                                                                                     |\n",
    "| ------------------- | -------------------------------------------------------------------------------------------------------------------------------- | ------------------------------------------------------------------------------------------ |\n",
    "| **Definition**      | A function is a block of reusable code that performs a specific task. It can be defined using `def` and can exist independently. | A method is a function that is associated with an object and is called using dot notation. |\n",
    "| **Associated with** | Not tied to any object or class unless explicitly defined in one.                                                                | Tied to an object (usually an instance of a class).                                        |\n",
    "| **How to Call**     | Called directly by name (if defined globally).                                                                                   | Called using an object: `object.method()`.                                                 |\n",
    "| **Belongs to**      | Can exist outside of a class.                                                                                                    | Always defined inside a class.                                                             |\n"
   ]
  },
  {
   "cell_type": "markdown",
   "id": "6aa8526e-1203-45de-84ae-d2cda3240be3",
   "metadata": {},
   "source": [
    "Example of a Function:"
   ]
  },
  {
   "cell_type": "code",
   "execution_count": 1,
   "id": "0b10f834-7e7c-4785-8c25-7fbc0d72a414",
   "metadata": {},
   "outputs": [
    {
     "name": "stdout",
     "output_type": "stream",
     "text": [
      "Hello, Alice!\n"
     ]
    }
   ],
   "source": [
    "def greet(name):\n",
    "    return f\"Hello, {name}!\"\n",
    "\n",
    "print(greet(\"Alice\"))  # Output: Hello, Alice!\n"
   ]
  },
  {
   "cell_type": "markdown",
   "id": "d216a007-3be3-4790-ba77-17cd92b88e8e",
   "metadata": {},
   "source": [
    "Example of a Method:"
   ]
  },
  {
   "cell_type": "code",
   "execution_count": 2,
   "id": "144bbec7-615b-401e-a6d0-84fee9ab7006",
   "metadata": {},
   "outputs": [
    {
     "name": "stdout",
     "output_type": "stream",
     "text": [
      "Hello, Bob!\n"
     ]
    }
   ],
   "source": [
    "class Person:\n",
    "    def greet(self, name):\n",
    "        return f\"Hello, {name}!\"\n",
    "\n",
    "p = Person()\n",
    "print(p.greet(\"Bob\"))  # Output: Hello, Bob!\n"
   ]
  },
  {
   "cell_type": "markdown",
   "id": "875da8ac-ec70-42ef-adb4-c677a6f46a89",
   "metadata": {},
   "source": [
    "**Q 2. Explain the concept of function arguments and parameters in Python.**"
   ]
  },
  {
   "cell_type": "code",
   "execution_count": null,
   "id": "eb43f540-4bba-410d-9e15-7159f0374d3d",
   "metadata": {},
   "outputs": [],
   "source": []
  },
  {
   "cell_type": "markdown",
   "id": "e355fb6c-a1ff-4b22-8454-64334084a897",
   "metadata": {},
   "source": [
    "**Q 3. What are the different ways to define and call a function in Python?**"
   ]
  },
  {
   "cell_type": "code",
   "execution_count": null,
   "id": "8494f36a-b89a-4a6b-bd1d-bb0c469954c2",
   "metadata": {},
   "outputs": [],
   "source": []
  },
  {
   "cell_type": "code",
   "execution_count": null,
   "id": "4713c1b1-3715-4e38-bcd9-1bb828e9b5b0",
   "metadata": {},
   "outputs": [],
   "source": []
  },
  {
   "cell_type": "markdown",
   "id": "eb41836e-fb15-4148-b006-f1cae4d28000",
   "metadata": {},
   "source": [
    "**Q 4. What is the purpose of the `return` statement in a Python function?**"
   ]
  },
  {
   "cell_type": "code",
   "execution_count": null,
   "id": "60421c96-9260-4263-95cb-ecc606292171",
   "metadata": {},
   "outputs": [],
   "source": []
  },
  {
   "cell_type": "markdown",
   "id": "08a1de6c-ac26-4a82-b511-6d44d039fc7d",
   "metadata": {},
   "source": [
    "**Q 5. What are iterators in Python and how do they differ from iterables?**"
   ]
  },
  {
   "cell_type": "code",
   "execution_count": null,
   "id": "32af1c04-0409-4847-bdd2-56dbd944fb8c",
   "metadata": {},
   "outputs": [],
   "source": []
  },
  {
   "cell_type": "markdown",
   "id": "e0ea2b49-6ab7-43b0-a846-9b70a36fbb34",
   "metadata": {},
   "source": [
    "**Q 6. Explain the concept of generators in Python and how they are defined.**"
   ]
  },
  {
   "cell_type": "code",
   "execution_count": null,
   "id": "74de9f44-7dc1-449c-878c-1fb99309a255",
   "metadata": {},
   "outputs": [],
   "source": []
  },
  {
   "cell_type": "markdown",
   "id": "bfde93ce-ad47-46e4-a8ac-b3058b012bde",
   "metadata": {},
   "source": [
    "**Q 7. What are the advantages of using generators over regular functions?**"
   ]
  },
  {
   "cell_type": "code",
   "execution_count": null,
   "id": "667b3d68-7e88-4e33-ad7f-b784ae2063ed",
   "metadata": {},
   "outputs": [],
   "source": []
  },
  {
   "cell_type": "markdown",
   "id": "bc16bd0e-8dd6-4ae1-9de9-950c081a2f78",
   "metadata": {},
   "source": [
    "**Q 8. What is a lambda function in Python and when is it typically used?**"
   ]
  },
  {
   "cell_type": "code",
   "execution_count": null,
   "id": "456cff62-bb24-41d8-ad74-87009045cca3",
   "metadata": {},
   "outputs": [],
   "source": []
  },
  {
   "cell_type": "markdown",
   "id": "b598dead-8619-4406-9503-0fb4c172ae17",
   "metadata": {},
   "source": [
    "**Q 9. Explain the purpose and usage of the `map()` function in Python.**"
   ]
  },
  {
   "cell_type": "code",
   "execution_count": null,
   "id": "7ede416b-3b38-4bcd-ab8c-c0b5160d61e3",
   "metadata": {},
   "outputs": [],
   "source": []
  },
  {
   "cell_type": "markdown",
   "id": "392ce826-bc9b-4cf3-bf73-b4feb96daef0",
   "metadata": {},
   "source": [
    "**Q 10. What is the difference between `map()`, `reduce()`, and `filter()` functions in Python?**"
   ]
  },
  {
   "cell_type": "code",
   "execution_count": null,
   "id": "73b91248-9e85-43e1-b258-65b3e4606376",
   "metadata": {},
   "outputs": [],
   "source": []
  },
  {
   "cell_type": "markdown",
   "id": "3eac853f-cae2-451e-bb1b-326780b41144",
   "metadata": {},
   "source": [
    "**Q 11. Using pen & Paper write the internal mechanism for sum operation using  reduce function on this given  list:[47,11,42,13];**"
   ]
  },
  {
   "cell_type": "code",
   "execution_count": null,
   "id": "0cf10325-83c2-4cad-b100-65524b97ebc7",
   "metadata": {},
   "outputs": [],
   "source": []
  },
  {
   "cell_type": "code",
   "execution_count": null,
   "id": "d6fe5ff2-781f-4093-857b-779d7936ee93",
   "metadata": {},
   "outputs": [],
   "source": []
  },
  {
   "cell_type": "code",
   "execution_count": null,
   "id": "31978519-abaf-467a-8d7a-3bd4b455c5ed",
   "metadata": {},
   "outputs": [],
   "source": []
  }
 ],
 "metadata": {
  "kernelspec": {
   "display_name": "Python 3 (ipykernel)",
   "language": "python",
   "name": "python3"
  },
  "language_info": {
   "codemirror_mode": {
    "name": "ipython",
    "version": 3
   },
   "file_extension": ".py",
   "mimetype": "text/x-python",
   "name": "python",
   "nbconvert_exporter": "python",
   "pygments_lexer": "ipython3",
   "version": "3.13.3"
  }
 },
 "nbformat": 4,
 "nbformat_minor": 5
}
